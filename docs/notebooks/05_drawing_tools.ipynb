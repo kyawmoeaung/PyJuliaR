{
  "cells": [
    {
      "cell_type": "markdown",
      "id": "0",
      "metadata": {
        "id": "0"
      },
      "source": [
        "<a href=\"https://githubtocolab.com/gee-community/geemap/blob/master/docs/notebooks/05_drawing_tools.ipynb\" target=\"_parent\"><img src=\"https://colab.research.google.com/assets/colab-badge.svg\" alt=\"Open in Colab\"/></a>\n",
        "\n",
        "Uncomment the following line to install [geemap](https://geemap.org) if needed."
      ]
    },
    {
      "cell_type": "code",
      "execution_count": 1,
      "id": "1",
      "metadata": {
        "id": "1",
        "outputId": "17a287f1-4981-4220-a359-7ad3d01ea23c",
        "colab": {
          "base_uri": "https://localhost:8080/"
        }
      },
      "outputs": [
        {
          "output_type": "stream",
          "name": "stdout",
          "text": [
            "Requirement already satisfied: geemap in /usr/local/lib/python3.11/dist-packages (0.35.3)\n",
            "Requirement already satisfied: bqplot in /usr/local/lib/python3.11/dist-packages (from geemap) (0.12.45)\n",
            "Requirement already satisfied: colour in /usr/local/lib/python3.11/dist-packages (from geemap) (0.1.5)\n",
            "Requirement already satisfied: earthengine-api>=1.0.0 in /usr/local/lib/python3.11/dist-packages (from geemap) (1.5.18)\n",
            "Requirement already satisfied: eerepr>=0.1.0 in /usr/local/lib/python3.11/dist-packages (from geemap) (0.1.2)\n",
            "Requirement already satisfied: folium>=0.17.0 in /usr/local/lib/python3.11/dist-packages (from geemap) (0.19.7)\n",
            "Requirement already satisfied: geocoder in /usr/local/lib/python3.11/dist-packages (from geemap) (1.38.1)\n",
            "Requirement already satisfied: ipyevents in /usr/local/lib/python3.11/dist-packages (from geemap) (2.0.2)\n",
            "Requirement already satisfied: ipyfilechooser>=0.6.0 in /usr/local/lib/python3.11/dist-packages (from geemap) (0.6.0)\n",
            "Requirement already satisfied: ipyleaflet>=0.19.2 in /usr/local/lib/python3.11/dist-packages (from geemap) (0.19.2)\n",
            "Requirement already satisfied: ipytree in /usr/local/lib/python3.11/dist-packages (from geemap) (0.2.2)\n",
            "Requirement already satisfied: matplotlib in /usr/local/lib/python3.11/dist-packages (from geemap) (3.10.0)\n",
            "Requirement already satisfied: numpy in /usr/local/lib/python3.11/dist-packages (from geemap) (2.0.2)\n",
            "Requirement already satisfied: pandas in /usr/local/lib/python3.11/dist-packages (from geemap) (2.2.2)\n",
            "Requirement already satisfied: plotly in /usr/local/lib/python3.11/dist-packages (from geemap) (5.24.1)\n",
            "Requirement already satisfied: pyperclip in /usr/local/lib/python3.11/dist-packages (from geemap) (1.9.0)\n",
            "Requirement already satisfied: pyshp>=2.3.1 in /usr/local/lib/python3.11/dist-packages (from geemap) (2.3.1)\n",
            "Requirement already satisfied: python-box in /usr/local/lib/python3.11/dist-packages (from geemap) (7.3.2)\n",
            "Requirement already satisfied: scooby in /usr/local/lib/python3.11/dist-packages (from geemap) (0.10.1)\n",
            "Requirement already satisfied: google-cloud-storage in /usr/local/lib/python3.11/dist-packages (from earthengine-api>=1.0.0->geemap) (2.19.0)\n",
            "Requirement already satisfied: google-api-python-client>=1.12.1 in /usr/local/lib/python3.11/dist-packages (from earthengine-api>=1.0.0->geemap) (2.171.0)\n",
            "Requirement already satisfied: google-auth>=1.4.1 in /usr/local/lib/python3.11/dist-packages (from earthengine-api>=1.0.0->geemap) (2.38.0)\n",
            "Requirement already satisfied: google-auth-httplib2>=0.0.3 in /usr/local/lib/python3.11/dist-packages (from earthengine-api>=1.0.0->geemap) (0.2.0)\n",
            "Requirement already satisfied: httplib2<1dev,>=0.9.2 in /usr/local/lib/python3.11/dist-packages (from earthengine-api>=1.0.0->geemap) (0.22.0)\n",
            "Requirement already satisfied: requests in /usr/local/lib/python3.11/dist-packages (from earthengine-api>=1.0.0->geemap) (2.32.3)\n",
            "Requirement already satisfied: branca>=0.6.0 in /usr/local/lib/python3.11/dist-packages (from folium>=0.17.0->geemap) (0.8.1)\n",
            "Requirement already satisfied: jinja2>=2.9 in /usr/local/lib/python3.11/dist-packages (from folium>=0.17.0->geemap) (3.1.6)\n",
            "Requirement already satisfied: xyzservices in /usr/local/lib/python3.11/dist-packages (from folium>=0.17.0->geemap) (2025.4.0)\n",
            "Requirement already satisfied: ipywidgets in /usr/local/lib/python3.11/dist-packages (from ipyfilechooser>=0.6.0->geemap) (7.7.1)\n",
            "Requirement already satisfied: jupyter-leaflet<0.20,>=0.19 in /usr/local/lib/python3.11/dist-packages (from ipyleaflet>=0.19.2->geemap) (0.19.2)\n",
            "Requirement already satisfied: traittypes<3,>=0.2.1 in /usr/local/lib/python3.11/dist-packages (from ipyleaflet>=0.19.2->geemap) (0.2.1)\n",
            "Requirement already satisfied: traitlets>=4.3.0 in /usr/local/lib/python3.11/dist-packages (from bqplot->geemap) (5.7.1)\n",
            "Requirement already satisfied: python-dateutil>=2.8.2 in /usr/local/lib/python3.11/dist-packages (from pandas->geemap) (2.9.0.post0)\n",
            "Requirement already satisfied: pytz>=2020.1 in /usr/local/lib/python3.11/dist-packages (from pandas->geemap) (2025.2)\n",
            "Requirement already satisfied: tzdata>=2022.7 in /usr/local/lib/python3.11/dist-packages (from pandas->geemap) (2025.2)\n",
            "Requirement already satisfied: click in /usr/local/lib/python3.11/dist-packages (from geocoder->geemap) (8.2.1)\n",
            "Requirement already satisfied: future in /usr/local/lib/python3.11/dist-packages (from geocoder->geemap) (1.0.0)\n",
            "Requirement already satisfied: ratelim in /usr/local/lib/python3.11/dist-packages (from geocoder->geemap) (0.1.6)\n",
            "Requirement already satisfied: six in /usr/local/lib/python3.11/dist-packages (from geocoder->geemap) (1.17.0)\n",
            "Requirement already satisfied: contourpy>=1.0.1 in /usr/local/lib/python3.11/dist-packages (from matplotlib->geemap) (1.3.2)\n",
            "Requirement already satisfied: cycler>=0.10 in /usr/local/lib/python3.11/dist-packages (from matplotlib->geemap) (0.12.1)\n",
            "Requirement already satisfied: fonttools>=4.22.0 in /usr/local/lib/python3.11/dist-packages (from matplotlib->geemap) (4.58.1)\n",
            "Requirement already satisfied: kiwisolver>=1.3.1 in /usr/local/lib/python3.11/dist-packages (from matplotlib->geemap) (1.4.8)\n",
            "Requirement already satisfied: packaging>=20.0 in /usr/local/lib/python3.11/dist-packages (from matplotlib->geemap) (24.2)\n",
            "Requirement already satisfied: pillow>=8 in /usr/local/lib/python3.11/dist-packages (from matplotlib->geemap) (11.2.1)\n",
            "Requirement already satisfied: pyparsing>=2.3.1 in /usr/local/lib/python3.11/dist-packages (from matplotlib->geemap) (3.2.3)\n",
            "Requirement already satisfied: tenacity>=6.2.0 in /usr/local/lib/python3.11/dist-packages (from plotly->geemap) (9.1.2)\n",
            "Requirement already satisfied: google-api-core!=2.0.*,!=2.1.*,!=2.2.*,!=2.3.0,<3.0.0,>=1.31.5 in /usr/local/lib/python3.11/dist-packages (from google-api-python-client>=1.12.1->earthengine-api>=1.0.0->geemap) (2.25.0)\n",
            "Requirement already satisfied: uritemplate<5,>=3.0.1 in /usr/local/lib/python3.11/dist-packages (from google-api-python-client>=1.12.1->earthengine-api>=1.0.0->geemap) (4.2.0)\n",
            "Requirement already satisfied: cachetools<6.0,>=2.0.0 in /usr/local/lib/python3.11/dist-packages (from google-auth>=1.4.1->earthengine-api>=1.0.0->geemap) (5.5.2)\n",
            "Requirement already satisfied: pyasn1-modules>=0.2.1 in /usr/local/lib/python3.11/dist-packages (from google-auth>=1.4.1->earthengine-api>=1.0.0->geemap) (0.4.2)\n",
            "Requirement already satisfied: rsa<5,>=3.1.4 in /usr/local/lib/python3.11/dist-packages (from google-auth>=1.4.1->earthengine-api>=1.0.0->geemap) (4.9.1)\n",
            "Requirement already satisfied: ipykernel>=4.5.1 in /usr/local/lib/python3.11/dist-packages (from ipywidgets->ipyfilechooser>=0.6.0->geemap) (6.17.1)\n",
            "Requirement already satisfied: ipython-genutils~=0.2.0 in /usr/local/lib/python3.11/dist-packages (from ipywidgets->ipyfilechooser>=0.6.0->geemap) (0.2.0)\n",
            "Requirement already satisfied: widgetsnbextension~=3.6.0 in /usr/local/lib/python3.11/dist-packages (from ipywidgets->ipyfilechooser>=0.6.0->geemap) (3.6.10)\n",
            "Requirement already satisfied: ipython>=4.0.0 in /usr/local/lib/python3.11/dist-packages (from ipywidgets->ipyfilechooser>=0.6.0->geemap) (7.34.0)\n",
            "Requirement already satisfied: jupyterlab-widgets>=1.0.0 in /usr/local/lib/python3.11/dist-packages (from ipywidgets->ipyfilechooser>=0.6.0->geemap) (3.0.15)\n",
            "Requirement already satisfied: MarkupSafe>=2.0 in /usr/local/lib/python3.11/dist-packages (from jinja2>=2.9->folium>=0.17.0->geemap) (3.0.2)\n",
            "Requirement already satisfied: google-cloud-core<3.0dev,>=2.3.0 in /usr/local/lib/python3.11/dist-packages (from google-cloud-storage->earthengine-api>=1.0.0->geemap) (2.4.3)\n",
            "Requirement already satisfied: google-resumable-media>=2.7.2 in /usr/local/lib/python3.11/dist-packages (from google-cloud-storage->earthengine-api>=1.0.0->geemap) (2.7.2)\n",
            "Requirement already satisfied: google-crc32c<2.0dev,>=1.0 in /usr/local/lib/python3.11/dist-packages (from google-cloud-storage->earthengine-api>=1.0.0->geemap) (1.7.1)\n",
            "Requirement already satisfied: charset-normalizer<4,>=2 in /usr/local/lib/python3.11/dist-packages (from requests->earthengine-api>=1.0.0->geemap) (3.4.2)\n",
            "Requirement already satisfied: idna<4,>=2.5 in /usr/local/lib/python3.11/dist-packages (from requests->earthengine-api>=1.0.0->geemap) (3.10)\n",
            "Requirement already satisfied: urllib3<3,>=1.21.1 in /usr/local/lib/python3.11/dist-packages (from requests->earthengine-api>=1.0.0->geemap) (2.4.0)\n",
            "Requirement already satisfied: certifi>=2017.4.17 in /usr/local/lib/python3.11/dist-packages (from requests->earthengine-api>=1.0.0->geemap) (2025.4.26)\n",
            "Requirement already satisfied: decorator in /usr/local/lib/python3.11/dist-packages (from ratelim->geocoder->geemap) (4.4.2)\n",
            "Requirement already satisfied: googleapis-common-protos<2.0.0,>=1.56.2 in /usr/local/lib/python3.11/dist-packages (from google-api-core!=2.0.*,!=2.1.*,!=2.2.*,!=2.3.0,<3.0.0,>=1.31.5->google-api-python-client>=1.12.1->earthengine-api>=1.0.0->geemap) (1.70.0)\n",
            "Requirement already satisfied: protobuf!=3.20.0,!=3.20.1,!=4.21.0,!=4.21.1,!=4.21.2,!=4.21.3,!=4.21.4,!=4.21.5,<7.0.0,>=3.19.5 in /usr/local/lib/python3.11/dist-packages (from google-api-core!=2.0.*,!=2.1.*,!=2.2.*,!=2.3.0,<3.0.0,>=1.31.5->google-api-python-client>=1.12.1->earthengine-api>=1.0.0->geemap) (5.29.5)\n",
            "Requirement already satisfied: proto-plus<2.0.0,>=1.22.3 in /usr/local/lib/python3.11/dist-packages (from google-api-core!=2.0.*,!=2.1.*,!=2.2.*,!=2.3.0,<3.0.0,>=1.31.5->google-api-python-client>=1.12.1->earthengine-api>=1.0.0->geemap) (1.26.1)\n",
            "Requirement already satisfied: debugpy>=1.0 in /usr/local/lib/python3.11/dist-packages (from ipykernel>=4.5.1->ipywidgets->ipyfilechooser>=0.6.0->geemap) (1.8.0)\n",
            "Requirement already satisfied: jupyter-client>=6.1.12 in /usr/local/lib/python3.11/dist-packages (from ipykernel>=4.5.1->ipywidgets->ipyfilechooser>=0.6.0->geemap) (6.1.12)\n",
            "Requirement already satisfied: matplotlib-inline>=0.1 in /usr/local/lib/python3.11/dist-packages (from ipykernel>=4.5.1->ipywidgets->ipyfilechooser>=0.6.0->geemap) (0.1.7)\n",
            "Requirement already satisfied: nest-asyncio in /usr/local/lib/python3.11/dist-packages (from ipykernel>=4.5.1->ipywidgets->ipyfilechooser>=0.6.0->geemap) (1.6.0)\n",
            "Requirement already satisfied: psutil in /usr/local/lib/python3.11/dist-packages (from ipykernel>=4.5.1->ipywidgets->ipyfilechooser>=0.6.0->geemap) (5.9.5)\n",
            "Requirement already satisfied: pyzmq>=17 in /usr/local/lib/python3.11/dist-packages (from ipykernel>=4.5.1->ipywidgets->ipyfilechooser>=0.6.0->geemap) (24.0.1)\n",
            "Requirement already satisfied: tornado>=6.1 in /usr/local/lib/python3.11/dist-packages (from ipykernel>=4.5.1->ipywidgets->ipyfilechooser>=0.6.0->geemap) (6.4.2)\n",
            "Requirement already satisfied: setuptools>=18.5 in /usr/local/lib/python3.11/dist-packages (from ipython>=4.0.0->ipywidgets->ipyfilechooser>=0.6.0->geemap) (75.2.0)\n",
            "Collecting jedi>=0.16 (from ipython>=4.0.0->ipywidgets->ipyfilechooser>=0.6.0->geemap)\n",
            "  Downloading jedi-0.19.2-py2.py3-none-any.whl.metadata (22 kB)\n",
            "Requirement already satisfied: pickleshare in /usr/local/lib/python3.11/dist-packages (from ipython>=4.0.0->ipywidgets->ipyfilechooser>=0.6.0->geemap) (0.7.5)\n",
            "Requirement already satisfied: prompt-toolkit!=3.0.0,!=3.0.1,<3.1.0,>=2.0.0 in /usr/local/lib/python3.11/dist-packages (from ipython>=4.0.0->ipywidgets->ipyfilechooser>=0.6.0->geemap) (3.0.51)\n",
            "Requirement already satisfied: pygments in /usr/local/lib/python3.11/dist-packages (from ipython>=4.0.0->ipywidgets->ipyfilechooser>=0.6.0->geemap) (2.19.1)\n",
            "Requirement already satisfied: backcall in /usr/local/lib/python3.11/dist-packages (from ipython>=4.0.0->ipywidgets->ipyfilechooser>=0.6.0->geemap) (0.2.0)\n",
            "Requirement already satisfied: pexpect>4.3 in /usr/local/lib/python3.11/dist-packages (from ipython>=4.0.0->ipywidgets->ipyfilechooser>=0.6.0->geemap) (4.9.0)\n",
            "Requirement already satisfied: pyasn1<0.7.0,>=0.6.1 in /usr/local/lib/python3.11/dist-packages (from pyasn1-modules>=0.2.1->google-auth>=1.4.1->earthengine-api>=1.0.0->geemap) (0.6.1)\n",
            "Requirement already satisfied: notebook>=4.4.1 in /usr/local/lib/python3.11/dist-packages (from widgetsnbextension~=3.6.0->ipywidgets->ipyfilechooser>=0.6.0->geemap) (6.5.7)\n",
            "Requirement already satisfied: parso<0.9.0,>=0.8.4 in /usr/local/lib/python3.11/dist-packages (from jedi>=0.16->ipython>=4.0.0->ipywidgets->ipyfilechooser>=0.6.0->geemap) (0.8.4)\n",
            "Requirement already satisfied: jupyter-core>=4.6.0 in /usr/local/lib/python3.11/dist-packages (from jupyter-client>=6.1.12->ipykernel>=4.5.1->ipywidgets->ipyfilechooser>=0.6.0->geemap) (5.8.1)\n",
            "Requirement already satisfied: argon2-cffi in /usr/local/lib/python3.11/dist-packages (from notebook>=4.4.1->widgetsnbextension~=3.6.0->ipywidgets->ipyfilechooser>=0.6.0->geemap) (25.1.0)\n",
            "Requirement already satisfied: nbformat in /usr/local/lib/python3.11/dist-packages (from notebook>=4.4.1->widgetsnbextension~=3.6.0->ipywidgets->ipyfilechooser>=0.6.0->geemap) (5.10.4)\n",
            "Requirement already satisfied: nbconvert>=5 in /usr/local/lib/python3.11/dist-packages (from notebook>=4.4.1->widgetsnbextension~=3.6.0->ipywidgets->ipyfilechooser>=0.6.0->geemap) (7.16.6)\n",
            "Requirement already satisfied: Send2Trash>=1.8.0 in /usr/local/lib/python3.11/dist-packages (from notebook>=4.4.1->widgetsnbextension~=3.6.0->ipywidgets->ipyfilechooser>=0.6.0->geemap) (1.8.3)\n",
            "Requirement already satisfied: terminado>=0.8.3 in /usr/local/lib/python3.11/dist-packages (from notebook>=4.4.1->widgetsnbextension~=3.6.0->ipywidgets->ipyfilechooser>=0.6.0->geemap) (0.18.1)\n",
            "Requirement already satisfied: prometheus-client in /usr/local/lib/python3.11/dist-packages (from notebook>=4.4.1->widgetsnbextension~=3.6.0->ipywidgets->ipyfilechooser>=0.6.0->geemap) (0.22.1)\n",
            "Requirement already satisfied: nbclassic>=0.4.7 in /usr/local/lib/python3.11/dist-packages (from notebook>=4.4.1->widgetsnbextension~=3.6.0->ipywidgets->ipyfilechooser>=0.6.0->geemap) (1.3.1)\n",
            "Requirement already satisfied: ptyprocess>=0.5 in /usr/local/lib/python3.11/dist-packages (from pexpect>4.3->ipython>=4.0.0->ipywidgets->ipyfilechooser>=0.6.0->geemap) (0.7.0)\n",
            "Requirement already satisfied: wcwidth in /usr/local/lib/python3.11/dist-packages (from prompt-toolkit!=3.0.0,!=3.0.1,<3.1.0,>=2.0.0->ipython>=4.0.0->ipywidgets->ipyfilechooser>=0.6.0->geemap) (0.2.13)\n",
            "Requirement already satisfied: platformdirs>=2.5 in /usr/local/lib/python3.11/dist-packages (from jupyter-core>=4.6.0->jupyter-client>=6.1.12->ipykernel>=4.5.1->ipywidgets->ipyfilechooser>=0.6.0->geemap) (4.3.8)\n",
            "Requirement already satisfied: notebook-shim>=0.2.3 in /usr/local/lib/python3.11/dist-packages (from nbclassic>=0.4.7->notebook>=4.4.1->widgetsnbextension~=3.6.0->ipywidgets->ipyfilechooser>=0.6.0->geemap) (0.2.4)\n",
            "Requirement already satisfied: beautifulsoup4 in /usr/local/lib/python3.11/dist-packages (from nbconvert>=5->notebook>=4.4.1->widgetsnbextension~=3.6.0->ipywidgets->ipyfilechooser>=0.6.0->geemap) (4.13.4)\n",
            "Requirement already satisfied: bleach!=5.0.0 in /usr/local/lib/python3.11/dist-packages (from bleach[css]!=5.0.0->nbconvert>=5->notebook>=4.4.1->widgetsnbextension~=3.6.0->ipywidgets->ipyfilechooser>=0.6.0->geemap) (6.2.0)\n",
            "Requirement already satisfied: defusedxml in /usr/local/lib/python3.11/dist-packages (from nbconvert>=5->notebook>=4.4.1->widgetsnbextension~=3.6.0->ipywidgets->ipyfilechooser>=0.6.0->geemap) (0.7.1)\n",
            "Requirement already satisfied: jupyterlab-pygments in /usr/local/lib/python3.11/dist-packages (from nbconvert>=5->notebook>=4.4.1->widgetsnbextension~=3.6.0->ipywidgets->ipyfilechooser>=0.6.0->geemap) (0.3.0)\n",
            "Requirement already satisfied: mistune<4,>=2.0.3 in /usr/local/lib/python3.11/dist-packages (from nbconvert>=5->notebook>=4.4.1->widgetsnbextension~=3.6.0->ipywidgets->ipyfilechooser>=0.6.0->geemap) (3.1.3)\n",
            "Requirement already satisfied: nbclient>=0.5.0 in /usr/local/lib/python3.11/dist-packages (from nbconvert>=5->notebook>=4.4.1->widgetsnbextension~=3.6.0->ipywidgets->ipyfilechooser>=0.6.0->geemap) (0.10.2)\n",
            "Requirement already satisfied: pandocfilters>=1.4.1 in /usr/local/lib/python3.11/dist-packages (from nbconvert>=5->notebook>=4.4.1->widgetsnbextension~=3.6.0->ipywidgets->ipyfilechooser>=0.6.0->geemap) (1.5.1)\n",
            "Requirement already satisfied: fastjsonschema>=2.15 in /usr/local/lib/python3.11/dist-packages (from nbformat->notebook>=4.4.1->widgetsnbextension~=3.6.0->ipywidgets->ipyfilechooser>=0.6.0->geemap) (2.21.1)\n",
            "Requirement already satisfied: jsonschema>=2.6 in /usr/local/lib/python3.11/dist-packages (from nbformat->notebook>=4.4.1->widgetsnbextension~=3.6.0->ipywidgets->ipyfilechooser>=0.6.0->geemap) (4.24.0)\n",
            "Requirement already satisfied: argon2-cffi-bindings in /usr/local/lib/python3.11/dist-packages (from argon2-cffi->notebook>=4.4.1->widgetsnbextension~=3.6.0->ipywidgets->ipyfilechooser>=0.6.0->geemap) (21.2.0)\n",
            "Requirement already satisfied: webencodings in /usr/local/lib/python3.11/dist-packages (from bleach!=5.0.0->bleach[css]!=5.0.0->nbconvert>=5->notebook>=4.4.1->widgetsnbextension~=3.6.0->ipywidgets->ipyfilechooser>=0.6.0->geemap) (0.5.1)\n",
            "Requirement already satisfied: tinycss2<1.5,>=1.1.0 in /usr/local/lib/python3.11/dist-packages (from bleach[css]!=5.0.0->nbconvert>=5->notebook>=4.4.1->widgetsnbextension~=3.6.0->ipywidgets->ipyfilechooser>=0.6.0->geemap) (1.4.0)\n",
            "Requirement already satisfied: attrs>=22.2.0 in /usr/local/lib/python3.11/dist-packages (from jsonschema>=2.6->nbformat->notebook>=4.4.1->widgetsnbextension~=3.6.0->ipywidgets->ipyfilechooser>=0.6.0->geemap) (25.3.0)\n",
            "Requirement already satisfied: jsonschema-specifications>=2023.03.6 in /usr/local/lib/python3.11/dist-packages (from jsonschema>=2.6->nbformat->notebook>=4.4.1->widgetsnbextension~=3.6.0->ipywidgets->ipyfilechooser>=0.6.0->geemap) (2025.4.1)\n",
            "Requirement already satisfied: referencing>=0.28.4 in /usr/local/lib/python3.11/dist-packages (from jsonschema>=2.6->nbformat->notebook>=4.4.1->widgetsnbextension~=3.6.0->ipywidgets->ipyfilechooser>=0.6.0->geemap) (0.36.2)\n",
            "Requirement already satisfied: rpds-py>=0.7.1 in /usr/local/lib/python3.11/dist-packages (from jsonschema>=2.6->nbformat->notebook>=4.4.1->widgetsnbextension~=3.6.0->ipywidgets->ipyfilechooser>=0.6.0->geemap) (0.25.1)\n",
            "Requirement already satisfied: jupyter-server<3,>=1.8 in /usr/local/lib/python3.11/dist-packages (from notebook-shim>=0.2.3->nbclassic>=0.4.7->notebook>=4.4.1->widgetsnbextension~=3.6.0->ipywidgets->ipyfilechooser>=0.6.0->geemap) (1.16.0)\n",
            "Requirement already satisfied: cffi>=1.0.1 in /usr/local/lib/python3.11/dist-packages (from argon2-cffi-bindings->argon2-cffi->notebook>=4.4.1->widgetsnbextension~=3.6.0->ipywidgets->ipyfilechooser>=0.6.0->geemap) (1.17.1)\n",
            "Requirement already satisfied: soupsieve>1.2 in /usr/local/lib/python3.11/dist-packages (from beautifulsoup4->nbconvert>=5->notebook>=4.4.1->widgetsnbextension~=3.6.0->ipywidgets->ipyfilechooser>=0.6.0->geemap) (2.7)\n",
            "Requirement already satisfied: typing-extensions>=4.0.0 in /usr/local/lib/python3.11/dist-packages (from beautifulsoup4->nbconvert>=5->notebook>=4.4.1->widgetsnbextension~=3.6.0->ipywidgets->ipyfilechooser>=0.6.0->geemap) (4.14.0)\n",
            "Requirement already satisfied: pycparser in /usr/local/lib/python3.11/dist-packages (from cffi>=1.0.1->argon2-cffi-bindings->argon2-cffi->notebook>=4.4.1->widgetsnbextension~=3.6.0->ipywidgets->ipyfilechooser>=0.6.0->geemap) (2.22)\n",
            "Requirement already satisfied: anyio>=3.1.0 in /usr/local/lib/python3.11/dist-packages (from jupyter-server<3,>=1.8->notebook-shim>=0.2.3->nbclassic>=0.4.7->notebook>=4.4.1->widgetsnbextension~=3.6.0->ipywidgets->ipyfilechooser>=0.6.0->geemap) (4.9.0)\n",
            "Requirement already satisfied: websocket-client in /usr/local/lib/python3.11/dist-packages (from jupyter-server<3,>=1.8->notebook-shim>=0.2.3->nbclassic>=0.4.7->notebook>=4.4.1->widgetsnbextension~=3.6.0->ipywidgets->ipyfilechooser>=0.6.0->geemap) (1.8.0)\n",
            "Requirement already satisfied: sniffio>=1.1 in /usr/local/lib/python3.11/dist-packages (from anyio>=3.1.0->jupyter-server<3,>=1.8->notebook-shim>=0.2.3->nbclassic>=0.4.7->notebook>=4.4.1->widgetsnbextension~=3.6.0->ipywidgets->ipyfilechooser>=0.6.0->geemap) (1.3.1)\n",
            "Downloading jedi-0.19.2-py2.py3-none-any.whl (1.6 MB)\n",
            "\u001b[2K   \u001b[90m━━━━━━━━━━━━━━━━━━━━━━━━━━━━━━━━━━━━━━━━\u001b[0m \u001b[32m1.6/1.6 MB\u001b[0m \u001b[31m12.7 MB/s\u001b[0m eta \u001b[36m0:00:00\u001b[0m\n",
            "\u001b[?25hInstalling collected packages: jedi\n",
            "Successfully installed jedi-0.19.2\n"
          ]
        }
      ],
      "source": [
        " !pip install geemap"
      ]
    },
    {
      "cell_type": "code",
      "execution_count": 2,
      "id": "2",
      "metadata": {
        "id": "2"
      },
      "outputs": [],
      "source": [
        "import ee\n",
        "import geemap"
      ]
    },
    {
      "cell_type": "code",
      "execution_count": 3,
      "id": "3",
      "metadata": {
        "id": "3",
        "outputId": "4319cc5b-60e2-4ca8-ec39-4328d4ec3546",
        "colab": {
          "base_uri": "https://localhost:8080/",
          "height": 471,
          "referenced_widgets": [
            "61cadd0e61784ea4b8fca0777e7c75cc",
            "b5685b91bb784e8ba131e1eb50fd9adf"
          ]
        }
      },
      "outputs": [
        {
          "output_type": "display_data",
          "data": {
            "text/plain": [
              "<IPython.core.display.HTML object>"
            ],
            "text/html": [
              "\n",
              "            <style>\n",
              "                .geemap-dark {\n",
              "                    --jp-widgets-color: white;\n",
              "                    --jp-widgets-label-color: white;\n",
              "                    --jp-ui-font-color1: white;\n",
              "                    --jp-layout-color2: #454545;\n",
              "                    background-color: #383838;\n",
              "                }\n",
              "\n",
              "                .geemap-dark .jupyter-button {\n",
              "                    --jp-layout-color3: #383838;\n",
              "                }\n",
              "\n",
              "                .geemap-colab {\n",
              "                    background-color: var(--colab-primary-surface-color, white);\n",
              "                }\n",
              "\n",
              "                .geemap-colab .jupyter-button {\n",
              "                    --jp-layout-color3: var(--colab-primary-surface-color, white);\n",
              "                }\n",
              "            </style>\n",
              "            "
            ]
          },
          "metadata": {}
        },
        {
          "output_type": "display_data",
          "data": {
            "text/plain": [
              "Output(layout=Layout(width='815px'))"
            ],
            "application/vnd.jupyter.widget-view+json": {
              "version_major": 2,
              "version_minor": 0,
              "model_id": "61cadd0e61784ea4b8fca0777e7c75cc"
            }
          },
          "metadata": {
            "application/vnd.jupyter.widget-view+json": {
              "colab": {
                "custom_widget_manager": {
                  "url": "https://ssl.gstatic.com/colaboratory-static/widgets/colab-cdn-widget-manager/2b70e893a8ba7c0f/manager.min.js"
                }
              }
            }
          }
        }
      ],
      "source": [
        "geemap.show_youtube(\"N7rK2aV1R4c\")"
      ]
    },
    {
      "cell_type": "code",
      "execution_count": 5,
      "id": "4",
      "metadata": {
        "id": "4",
        "outputId": "7ec1b88e-babf-44f9-b7cd-5be39ea4681d",
        "colab": {
          "base_uri": "https://localhost:8080/",
          "height": 310
        }
      },
      "outputs": [
        {
          "output_type": "display_data",
          "data": {
            "text/plain": [
              "<IPython.core.display.HTML object>"
            ],
            "text/html": [
              "\n",
              "            <style>\n",
              "                .geemap-dark {\n",
              "                    --jp-widgets-color: white;\n",
              "                    --jp-widgets-label-color: white;\n",
              "                    --jp-ui-font-color1: white;\n",
              "                    --jp-layout-color2: #454545;\n",
              "                    background-color: #383838;\n",
              "                }\n",
              "\n",
              "                .geemap-dark .jupyter-button {\n",
              "                    --jp-layout-color3: #383838;\n",
              "                }\n",
              "\n",
              "                .geemap-colab {\n",
              "                    background-color: var(--colab-primary-surface-color, white);\n",
              "                }\n",
              "\n",
              "                .geemap-colab .jupyter-button {\n",
              "                    --jp-layout-color3: var(--colab-primary-surface-color, white);\n",
              "                }\n",
              "            </style>\n",
              "            "
            ]
          },
          "metadata": {}
        },
        {
          "output_type": "error",
          "ename": "JSONDecodeError",
          "evalue": "Extra data: line 1 column 16 (char 15)",
          "traceback": [
            "\u001b[0;31m---------------------------------------------------------------------------\u001b[0m",
            "\u001b[0;31mJSONDecodeError\u001b[0m                           Traceback (most recent call last)",
            "\u001b[0;32m<ipython-input-5-504b3dd32211>\u001b[0m in \u001b[0;36m<cell line: 0>\u001b[0;34m()\u001b[0m\n\u001b[0;32m----> 1\u001b[0;31m \u001b[0mMap\u001b[0m \u001b[0;34m=\u001b[0m \u001b[0mgeemap\u001b[0m\u001b[0;34m.\u001b[0m\u001b[0mMap\u001b[0m\u001b[0;34m(\u001b[0m\u001b[0;34m)\u001b[0m\u001b[0;34m\u001b[0m\u001b[0;34m\u001b[0m\u001b[0m\n\u001b[0m\u001b[1;32m      2\u001b[0m \u001b[0mMap\u001b[0m\u001b[0;34m\u001b[0m\u001b[0;34m\u001b[0m\u001b[0m\n",
            "\u001b[0;32m/usr/local/lib/python3.11/dist-packages/geemap/geemap.py\u001b[0m in \u001b[0;36m__init__\u001b[0;34m(self, **kwargs)\u001b[0m\n\u001b[1;32m    157\u001b[0m         \u001b[0mself\u001b[0m\u001b[0;34m.\u001b[0m\u001b[0m_USER_AGENT_PREFIX\u001b[0m \u001b[0;34m=\u001b[0m \u001b[0;34m\"geemap\"\u001b[0m\u001b[0;34m\u001b[0m\u001b[0;34m\u001b[0m\u001b[0m\n\u001b[1;32m    158\u001b[0m         \u001b[0mself\u001b[0m\u001b[0;34m.\u001b[0m\u001b[0mkwargs\u001b[0m \u001b[0;34m=\u001b[0m \u001b[0mkwargs\u001b[0m\u001b[0;34m\u001b[0m\u001b[0;34m\u001b[0m\u001b[0m\n\u001b[0;32m--> 159\u001b[0;31m         \u001b[0msuper\u001b[0m\u001b[0;34m(\u001b[0m\u001b[0;34m)\u001b[0m\u001b[0;34m.\u001b[0m\u001b[0m__init__\u001b[0m\u001b[0;34m(\u001b[0m\u001b[0;34m**\u001b[0m\u001b[0mkwargs\u001b[0m\u001b[0;34m)\u001b[0m\u001b[0;34m\u001b[0m\u001b[0;34m\u001b[0m\u001b[0m\n\u001b[0m\u001b[1;32m    160\u001b[0m         \u001b[0mself\u001b[0m\u001b[0;34m.\u001b[0m\u001b[0m_var_name\u001b[0m \u001b[0;34m=\u001b[0m \u001b[0;34m\"Map\"\u001b[0m  \u001b[0;31m# The Map variable name for converting JS to Python\u001b[0m\u001b[0;34m\u001b[0m\u001b[0;34m\u001b[0m\u001b[0m\n\u001b[1;32m    161\u001b[0m \u001b[0;34m\u001b[0m\u001b[0m\n",
            "\u001b[0;32m/usr/local/lib/python3.11/dist-packages/geemap/core.py\u001b[0m in \u001b[0;36m__init__\u001b[0;34m(self, **kwargs)\u001b[0m\n\u001b[1;32m    727\u001b[0m         \u001b[0;31m# Authenticate and initialize EE.\u001b[0m\u001b[0;34m\u001b[0m\u001b[0;34m\u001b[0m\u001b[0m\n\u001b[1;32m    728\u001b[0m         \u001b[0;32mif\u001b[0m \u001b[0mkwargs\u001b[0m\u001b[0;34m.\u001b[0m\u001b[0mget\u001b[0m\u001b[0;34m(\u001b[0m\u001b[0;34m\"ee_initialize\"\u001b[0m\u001b[0;34m,\u001b[0m \u001b[0;32mTrue\u001b[0m\u001b[0;34m)\u001b[0m\u001b[0;34m:\u001b[0m\u001b[0;34m\u001b[0m\u001b[0;34m\u001b[0m\u001b[0m\n\u001b[0;32m--> 729\u001b[0;31m             \u001b[0mcoreutils\u001b[0m\u001b[0;34m.\u001b[0m\u001b[0mee_initialize\u001b[0m\u001b[0;34m(\u001b[0m\u001b[0muser_agent_prefix\u001b[0m\u001b[0;34m=\u001b[0m\u001b[0mself\u001b[0m\u001b[0;34m.\u001b[0m\u001b[0m_USER_AGENT_PREFIX\u001b[0m\u001b[0;34m)\u001b[0m\u001b[0;34m\u001b[0m\u001b[0;34m\u001b[0m\u001b[0m\n\u001b[0m\u001b[1;32m    730\u001b[0m \u001b[0;34m\u001b[0m\u001b[0m\n\u001b[1;32m    731\u001b[0m         \u001b[0;31m# Listen for layers being added/removed so we can update the layer manager.\u001b[0m\u001b[0;34m\u001b[0m\u001b[0;34m\u001b[0m\u001b[0m\n",
            "\u001b[0;32m/usr/local/lib/python3.11/dist-packages/geemap/coreutils.py\u001b[0m in \u001b[0;36mee_initialize\u001b[0;34m(token_name, auth_mode, auth_args, user_agent_prefix, project, **kwargs)\u001b[0m\n\u001b[1;32m     80\u001b[0m     \u001b[0;32mif\u001b[0m \u001b[0mee_token\u001b[0m \u001b[0;32mis\u001b[0m \u001b[0;32mnot\u001b[0m \u001b[0;32mNone\u001b[0m\u001b[0;34m:\u001b[0m\u001b[0;34m\u001b[0m\u001b[0;34m\u001b[0m\u001b[0m\n\u001b[1;32m     81\u001b[0m \u001b[0;34m\u001b[0m\u001b[0m\n\u001b[0;32m---> 82\u001b[0;31m         \u001b[0mstored\u001b[0m \u001b[0;34m=\u001b[0m \u001b[0mjson\u001b[0m\u001b[0;34m.\u001b[0m\u001b[0mloads\u001b[0m\u001b[0;34m(\u001b[0m\u001b[0mee_token\u001b[0m\u001b[0;34m)\u001b[0m\u001b[0;34m\u001b[0m\u001b[0;34m\u001b[0m\u001b[0m\n\u001b[0m\u001b[1;32m     83\u001b[0m         credentials = google.oauth2.credentials.Credentials(\n\u001b[1;32m     84\u001b[0m             \u001b[0;32mNone\u001b[0m\u001b[0;34m,\u001b[0m\u001b[0;34m\u001b[0m\u001b[0;34m\u001b[0m\u001b[0m\n",
            "\u001b[0;32m/usr/lib/python3.11/json/__init__.py\u001b[0m in \u001b[0;36mloads\u001b[0;34m(s, cls, object_hook, parse_float, parse_int, parse_constant, object_pairs_hook, **kw)\u001b[0m\n\u001b[1;32m    344\u001b[0m             \u001b[0mparse_int\u001b[0m \u001b[0;32mis\u001b[0m \u001b[0;32mNone\u001b[0m \u001b[0;32mand\u001b[0m \u001b[0mparse_float\u001b[0m \u001b[0;32mis\u001b[0m \u001b[0;32mNone\u001b[0m \u001b[0;32mand\u001b[0m\u001b[0;34m\u001b[0m\u001b[0;34m\u001b[0m\u001b[0m\n\u001b[1;32m    345\u001b[0m             parse_constant is None and object_pairs_hook is None and not kw):\n\u001b[0;32m--> 346\u001b[0;31m         \u001b[0;32mreturn\u001b[0m \u001b[0m_default_decoder\u001b[0m\u001b[0;34m.\u001b[0m\u001b[0mdecode\u001b[0m\u001b[0;34m(\u001b[0m\u001b[0ms\u001b[0m\u001b[0;34m)\u001b[0m\u001b[0;34m\u001b[0m\u001b[0;34m\u001b[0m\u001b[0m\n\u001b[0m\u001b[1;32m    347\u001b[0m     \u001b[0;32mif\u001b[0m \u001b[0mcls\u001b[0m \u001b[0;32mis\u001b[0m \u001b[0;32mNone\u001b[0m\u001b[0;34m:\u001b[0m\u001b[0;34m\u001b[0m\u001b[0;34m\u001b[0m\u001b[0m\n\u001b[1;32m    348\u001b[0m         \u001b[0mcls\u001b[0m \u001b[0;34m=\u001b[0m \u001b[0mJSONDecoder\u001b[0m\u001b[0;34m\u001b[0m\u001b[0;34m\u001b[0m\u001b[0m\n",
            "\u001b[0;32m/usr/lib/python3.11/json/decoder.py\u001b[0m in \u001b[0;36mdecode\u001b[0;34m(self, s, _w)\u001b[0m\n\u001b[1;32m    338\u001b[0m         \u001b[0mend\u001b[0m \u001b[0;34m=\u001b[0m \u001b[0m_w\u001b[0m\u001b[0;34m(\u001b[0m\u001b[0ms\u001b[0m\u001b[0;34m,\u001b[0m \u001b[0mend\u001b[0m\u001b[0;34m)\u001b[0m\u001b[0;34m.\u001b[0m\u001b[0mend\u001b[0m\u001b[0;34m(\u001b[0m\u001b[0;34m)\u001b[0m\u001b[0;34m\u001b[0m\u001b[0;34m\u001b[0m\u001b[0m\n\u001b[1;32m    339\u001b[0m         \u001b[0;32mif\u001b[0m \u001b[0mend\u001b[0m \u001b[0;34m!=\u001b[0m \u001b[0mlen\u001b[0m\u001b[0;34m(\u001b[0m\u001b[0ms\u001b[0m\u001b[0;34m)\u001b[0m\u001b[0;34m:\u001b[0m\u001b[0;34m\u001b[0m\u001b[0;34m\u001b[0m\u001b[0m\n\u001b[0;32m--> 340\u001b[0;31m             \u001b[0;32mraise\u001b[0m \u001b[0mJSONDecodeError\u001b[0m\u001b[0;34m(\u001b[0m\u001b[0;34m\"Extra data\"\u001b[0m\u001b[0;34m,\u001b[0m \u001b[0ms\u001b[0m\u001b[0;34m,\u001b[0m \u001b[0mend\u001b[0m\u001b[0;34m)\u001b[0m\u001b[0;34m\u001b[0m\u001b[0;34m\u001b[0m\u001b[0m\n\u001b[0m\u001b[1;32m    341\u001b[0m         \u001b[0;32mreturn\u001b[0m \u001b[0mobj\u001b[0m\u001b[0;34m\u001b[0m\u001b[0;34m\u001b[0m\u001b[0m\n\u001b[1;32m    342\u001b[0m \u001b[0;34m\u001b[0m\u001b[0m\n",
            "\u001b[0;31mJSONDecodeError\u001b[0m: Extra data: line 1 column 16 (char 15)"
          ]
        }
      ],
      "source": [
        "Map = geemap.Map()\n",
        "Map"
      ]
    },
    {
      "cell_type": "code",
      "execution_count": 6,
      "id": "5",
      "metadata": {
        "id": "5",
        "outputId": "472a334c-e8ce-4a6e-a7e2-d062916c1175",
        "colab": {
          "base_uri": "https://localhost:8080/",
          "height": 363
        }
      },
      "outputs": [
        {
          "output_type": "display_data",
          "data": {
            "text/plain": [
              "<IPython.core.display.HTML object>"
            ],
            "text/html": [
              "\n",
              "            <style>\n",
              "                .geemap-dark {\n",
              "                    --jp-widgets-color: white;\n",
              "                    --jp-widgets-label-color: white;\n",
              "                    --jp-ui-font-color1: white;\n",
              "                    --jp-layout-color2: #454545;\n",
              "                    background-color: #383838;\n",
              "                }\n",
              "\n",
              "                .geemap-dark .jupyter-button {\n",
              "                    --jp-layout-color3: #383838;\n",
              "                }\n",
              "\n",
              "                .geemap-colab {\n",
              "                    background-color: var(--colab-primary-surface-color, white);\n",
              "                }\n",
              "\n",
              "                .geemap-colab .jupyter-button {\n",
              "                    --jp-layout-color3: var(--colab-primary-surface-color, white);\n",
              "                }\n",
              "            </style>\n",
              "            "
            ]
          },
          "metadata": {}
        },
        {
          "output_type": "error",
          "ename": "EEException",
          "evalue": "Earth Engine client library not initialized. See http://goo.gle/ee-auth.",
          "traceback": [
            "\u001b[0;31m---------------------------------------------------------------------------\u001b[0m",
            "\u001b[0;31mEEException\u001b[0m                               Traceback (most recent call last)",
            "\u001b[0;32m<ipython-input-6-f3a76ea70dc0>\u001b[0m in \u001b[0;36m<cell line: 0>\u001b[0;34m()\u001b[0m\n\u001b[1;32m      1\u001b[0m \u001b[0;31m# Add Earth Engine dataset\u001b[0m\u001b[0;34m\u001b[0m\u001b[0;34m\u001b[0m\u001b[0m\n\u001b[0;32m----> 2\u001b[0;31m \u001b[0mimage\u001b[0m \u001b[0;34m=\u001b[0m \u001b[0mee\u001b[0m\u001b[0;34m.\u001b[0m\u001b[0mImage\u001b[0m\u001b[0;34m(\u001b[0m\u001b[0;34m\"USGS/SRTMGL1_003\"\u001b[0m\u001b[0;34m)\u001b[0m\u001b[0;34m\u001b[0m\u001b[0;34m\u001b[0m\u001b[0m\n\u001b[0m\u001b[1;32m      3\u001b[0m \u001b[0;34m\u001b[0m\u001b[0m\n\u001b[1;32m      4\u001b[0m \u001b[0;31m# Set visualization parameters.\u001b[0m\u001b[0;34m\u001b[0m\u001b[0;34m\u001b[0m\u001b[0m\n\u001b[1;32m      5\u001b[0m vis_params = {\n",
            "\u001b[0;32m/usr/local/lib/python3.11/dist-packages/ee/computedobject.py\u001b[0m in \u001b[0;36m__call__\u001b[0;34m(cls, *args, **kwargs)\u001b[0m\n\u001b[1;32m     26\u001b[0m       \u001b[0;32mreturn\u001b[0m \u001b[0margs\u001b[0m\u001b[0;34m[\u001b[0m\u001b[0;36m0\u001b[0m\u001b[0;34m]\u001b[0m\u001b[0;34m\u001b[0m\u001b[0;34m\u001b[0m\u001b[0m\n\u001b[1;32m     27\u001b[0m     \u001b[0;32melse\u001b[0m\u001b[0;34m:\u001b[0m\u001b[0;34m\u001b[0m\u001b[0;34m\u001b[0m\u001b[0m\n\u001b[0;32m---> 28\u001b[0;31m       \u001b[0;32mreturn\u001b[0m \u001b[0mtype\u001b[0m\u001b[0;34m.\u001b[0m\u001b[0m__call__\u001b[0m\u001b[0;34m(\u001b[0m\u001b[0mcls\u001b[0m\u001b[0;34m,\u001b[0m \u001b[0;34m*\u001b[0m\u001b[0margs\u001b[0m\u001b[0;34m,\u001b[0m \u001b[0;34m**\u001b[0m\u001b[0mkwargs\u001b[0m\u001b[0;34m)\u001b[0m\u001b[0;34m\u001b[0m\u001b[0;34m\u001b[0m\u001b[0m\n\u001b[0m\u001b[1;32m     29\u001b[0m \u001b[0;34m\u001b[0m\u001b[0m\n\u001b[1;32m     30\u001b[0m \u001b[0;34m\u001b[0m\u001b[0m\n",
            "\u001b[0;32m/usr/local/lib/python3.11/dist-packages/ee/deprecation.py\u001b[0m in \u001b[0;36mWrapper\u001b[0;34m(*args, **kwargs)\u001b[0m\n\u001b[1;32m    122\u001b[0m         \u001b[0;32mif\u001b[0m \u001b[0masset\u001b[0m\u001b[0;34m:\u001b[0m\u001b[0;34m\u001b[0m\u001b[0;34m\u001b[0m\u001b[0m\n\u001b[1;32m    123\u001b[0m           \u001b[0m_IssueAssetDeprecationWarning\u001b[0m\u001b[0;34m(\u001b[0m\u001b[0masset\u001b[0m\u001b[0;34m)\u001b[0m\u001b[0;34m\u001b[0m\u001b[0;34m\u001b[0m\u001b[0m\n\u001b[0;32m--> 124\u001b[0;31m       \u001b[0;32mreturn\u001b[0m \u001b[0mfunc\u001b[0m\u001b[0;34m(\u001b[0m\u001b[0;34m*\u001b[0m\u001b[0margs\u001b[0m\u001b[0;34m,\u001b[0m \u001b[0;34m**\u001b[0m\u001b[0mkwargs\u001b[0m\u001b[0;34m)\u001b[0m\u001b[0;34m\u001b[0m\u001b[0;34m\u001b[0m\u001b[0m\n\u001b[0m\u001b[1;32m    125\u001b[0m \u001b[0;34m\u001b[0m\u001b[0m\n\u001b[1;32m    126\u001b[0m     \u001b[0;32mreturn\u001b[0m \u001b[0mWrapper\u001b[0m\u001b[0;34m\u001b[0m\u001b[0;34m\u001b[0m\u001b[0m\n",
            "\u001b[0;32m/usr/local/lib/python3.11/dist-packages/ee/image.py\u001b[0m in \u001b[0;36m__init__\u001b[0;34m(self, args, version)\u001b[0m\n\u001b[1;32m     73\u001b[0m       \u001b[0mEEException\u001b[0m\u001b[0;34m:\u001b[0m \u001b[0;32mif\u001b[0m \u001b[0mpassed\u001b[0m \u001b[0msomething\u001b[0m \u001b[0mother\u001b[0m \u001b[0mthan\u001b[0m \u001b[0mthe\u001b[0m \u001b[0mabove\u001b[0m\u001b[0;34m.\u001b[0m\u001b[0;34m\u001b[0m\u001b[0;34m\u001b[0m\u001b[0m\n\u001b[1;32m     74\u001b[0m     \"\"\"\n\u001b[0;32m---> 75\u001b[0;31m     \u001b[0mself\u001b[0m\u001b[0;34m.\u001b[0m\u001b[0minitialize\u001b[0m\u001b[0;34m(\u001b[0m\u001b[0;34m)\u001b[0m\u001b[0;34m\u001b[0m\u001b[0;34m\u001b[0m\u001b[0m\n\u001b[0m\u001b[1;32m     76\u001b[0m \u001b[0;34m\u001b[0m\u001b[0m\n\u001b[1;32m     77\u001b[0m     \u001b[0;32mif\u001b[0m \u001b[0mversion\u001b[0m \u001b[0;32mis\u001b[0m \u001b[0;32mnot\u001b[0m \u001b[0;32mNone\u001b[0m\u001b[0;34m:\u001b[0m\u001b[0;34m\u001b[0m\u001b[0;34m\u001b[0m\u001b[0m\n",
            "\u001b[0;32m/usr/local/lib/python3.11/dist-packages/ee/image.py\u001b[0m in \u001b[0;36minitialize\u001b[0;34m(cls)\u001b[0m\n\u001b[1;32m    119\u001b[0m     \u001b[0;34m\"\"\"Imports API functions to this class.\"\"\"\u001b[0m\u001b[0;34m\u001b[0m\u001b[0;34m\u001b[0m\u001b[0m\n\u001b[1;32m    120\u001b[0m     \u001b[0;32mif\u001b[0m \u001b[0;32mnot\u001b[0m \u001b[0mcls\u001b[0m\u001b[0;34m.\u001b[0m\u001b[0m_initialized\u001b[0m\u001b[0;34m:\u001b[0m\u001b[0;34m\u001b[0m\u001b[0;34m\u001b[0m\u001b[0m\n\u001b[0;32m--> 121\u001b[0;31m       \u001b[0mapifunction\u001b[0m\u001b[0;34m.\u001b[0m\u001b[0mApiFunction\u001b[0m\u001b[0;34m.\u001b[0m\u001b[0mimportApi\u001b[0m\u001b[0;34m(\u001b[0m\u001b[0mcls\u001b[0m\u001b[0;34m,\u001b[0m \u001b[0mcls\u001b[0m\u001b[0;34m.\u001b[0m\u001b[0mname\u001b[0m\u001b[0;34m(\u001b[0m\u001b[0;34m)\u001b[0m\u001b[0;34m,\u001b[0m \u001b[0mcls\u001b[0m\u001b[0;34m.\u001b[0m\u001b[0mname\u001b[0m\u001b[0;34m(\u001b[0m\u001b[0;34m)\u001b[0m\u001b[0;34m)\u001b[0m\u001b[0;34m\u001b[0m\u001b[0;34m\u001b[0m\u001b[0m\n\u001b[0m\u001b[1;32m    122\u001b[0m       \u001b[0mcls\u001b[0m\u001b[0;34m.\u001b[0m\u001b[0m_initialized\u001b[0m \u001b[0;34m=\u001b[0m \u001b[0;32mTrue\u001b[0m\u001b[0;34m\u001b[0m\u001b[0;34m\u001b[0m\u001b[0m\n\u001b[1;32m    123\u001b[0m \u001b[0;34m\u001b[0m\u001b[0m\n",
            "\u001b[0;32m/usr/local/lib/python3.11/dist-packages/ee/_utils.py\u001b[0m in \u001b[0;36mwrapper\u001b[0;34m(*args, **kwargs)\u001b[0m\n\u001b[1;32m     36\u001b[0m           \u001b[0;32mif\u001b[0m \u001b[0mnew_key\u001b[0m \u001b[0;32mnot\u001b[0m \u001b[0;32min\u001b[0m \u001b[0mkwargs\u001b[0m\u001b[0;34m:\u001b[0m\u001b[0;34m\u001b[0m\u001b[0;34m\u001b[0m\u001b[0m\n\u001b[1;32m     37\u001b[0m             \u001b[0mkwargs\u001b[0m\u001b[0;34m[\u001b[0m\u001b[0mnew_key\u001b[0m\u001b[0;34m]\u001b[0m \u001b[0;34m=\u001b[0m \u001b[0mold_key_val\u001b[0m\u001b[0;34m\u001b[0m\u001b[0;34m\u001b[0m\u001b[0m\n\u001b[0;32m---> 38\u001b[0;31m       \u001b[0;32mreturn\u001b[0m \u001b[0mfunc\u001b[0m\u001b[0;34m(\u001b[0m\u001b[0;34m*\u001b[0m\u001b[0margs\u001b[0m\u001b[0;34m,\u001b[0m \u001b[0;34m**\u001b[0m\u001b[0mkwargs\u001b[0m\u001b[0;34m)\u001b[0m\u001b[0;34m\u001b[0m\u001b[0;34m\u001b[0m\u001b[0m\n\u001b[0m\u001b[1;32m     39\u001b[0m \u001b[0;34m\u001b[0m\u001b[0m\n\u001b[1;32m     40\u001b[0m     \u001b[0;32mreturn\u001b[0m \u001b[0mwrapper\u001b[0m\u001b[0;34m\u001b[0m\u001b[0;34m\u001b[0m\u001b[0m\n",
            "\u001b[0;32m/usr/local/lib/python3.11/dist-packages/ee/apifunction.py\u001b[0m in \u001b[0;36mimportApi\u001b[0;34m(cls, target, prefix, type_name, prepend)\u001b[0m\n\u001b[1;32m    195\u001b[0m         \u001b[0mfunctions\u001b[0m\u001b[0;34m.\u001b[0m\u001b[0;34m\u001b[0m\u001b[0;34m\u001b[0m\u001b[0m\n\u001b[1;32m    196\u001b[0m     \"\"\"\n\u001b[0;32m--> 197\u001b[0;31m     \u001b[0mcls\u001b[0m\u001b[0;34m.\u001b[0m\u001b[0minitialize\u001b[0m\u001b[0;34m(\u001b[0m\u001b[0;34m)\u001b[0m\u001b[0;34m\u001b[0m\u001b[0;34m\u001b[0m\u001b[0m\n\u001b[0m\u001b[1;32m    198\u001b[0m     \u001b[0mprepend\u001b[0m \u001b[0;34m=\u001b[0m \u001b[0mprepend\u001b[0m \u001b[0;32mor\u001b[0m \u001b[0;34m''\u001b[0m\u001b[0;34m\u001b[0m\u001b[0;34m\u001b[0m\u001b[0m\n\u001b[1;32m    199\u001b[0m     \u001b[0;32mfor\u001b[0m \u001b[0mname\u001b[0m\u001b[0;34m,\u001b[0m \u001b[0mapi_func\u001b[0m \u001b[0;32min\u001b[0m \u001b[0mcls\u001b[0m\u001b[0;34m.\u001b[0m\u001b[0m_api\u001b[0m\u001b[0;34m.\u001b[0m\u001b[0mitems\u001b[0m\u001b[0;34m(\u001b[0m\u001b[0;34m)\u001b[0m\u001b[0;34m:\u001b[0m\u001b[0;34m\u001b[0m\u001b[0;34m\u001b[0m\u001b[0m\n",
            "\u001b[0;32m/usr/local/lib/python3.11/dist-packages/ee/apifunction.py\u001b[0m in \u001b[0;36minitialize\u001b[0;34m(cls)\u001b[0m\n\u001b[1;32m    159\u001b[0m     \u001b[0;34m\"\"\"Initializes the list of signatures from the Earth Engine front-end.\"\"\"\u001b[0m\u001b[0;34m\u001b[0m\u001b[0;34m\u001b[0m\u001b[0m\n\u001b[1;32m    160\u001b[0m     \u001b[0;32mif\u001b[0m \u001b[0;32mnot\u001b[0m \u001b[0mcls\u001b[0m\u001b[0;34m.\u001b[0m\u001b[0m_api\u001b[0m\u001b[0;34m:\u001b[0m\u001b[0;34m\u001b[0m\u001b[0;34m\u001b[0m\u001b[0m\n\u001b[0;32m--> 161\u001b[0;31m       \u001b[0msignatures\u001b[0m \u001b[0;34m=\u001b[0m \u001b[0mdata\u001b[0m\u001b[0;34m.\u001b[0m\u001b[0mgetAlgorithms\u001b[0m\u001b[0;34m(\u001b[0m\u001b[0;34m)\u001b[0m\u001b[0;34m\u001b[0m\u001b[0;34m\u001b[0m\u001b[0m\n\u001b[0m\u001b[1;32m    162\u001b[0m       \u001b[0mapi\u001b[0m \u001b[0;34m=\u001b[0m \u001b[0;34m{\u001b[0m\u001b[0;34m}\u001b[0m\u001b[0;34m\u001b[0m\u001b[0;34m\u001b[0m\u001b[0m\n\u001b[1;32m    163\u001b[0m       \u001b[0;32mfor\u001b[0m \u001b[0mname\u001b[0m\u001b[0;34m,\u001b[0m \u001b[0msig\u001b[0m \u001b[0;32min\u001b[0m \u001b[0msignatures\u001b[0m\u001b[0;34m.\u001b[0m\u001b[0mitems\u001b[0m\u001b[0;34m(\u001b[0m\u001b[0;34m)\u001b[0m\u001b[0;34m:\u001b[0m\u001b[0;34m\u001b[0m\u001b[0;34m\u001b[0m\u001b[0m\n",
            "\u001b[0;32m/usr/local/lib/python3.11/dist-packages/ee/data.py\u001b[0m in \u001b[0;36mgetAlgorithms\u001b[0;34m()\u001b[0m\n\u001b[1;32m   1479\u001b[0m   \u001b[0;32mtry\u001b[0m\u001b[0;34m:\u001b[0m\u001b[0;34m\u001b[0m\u001b[0;34m\u001b[0m\u001b[0m\n\u001b[1;32m   1480\u001b[0m     call = (\n\u001b[0;32m-> 1481\u001b[0;31m         \u001b[0m_get_cloud_projects\u001b[0m\u001b[0;34m(\u001b[0m\u001b[0;34m)\u001b[0m\u001b[0;34m\u001b[0m\u001b[0;34m\u001b[0m\u001b[0m\n\u001b[0m\u001b[1;32m   1482\u001b[0m         \u001b[0;34m.\u001b[0m\u001b[0malgorithms\u001b[0m\u001b[0;34m(\u001b[0m\u001b[0;34m)\u001b[0m\u001b[0;34m\u001b[0m\u001b[0;34m\u001b[0m\u001b[0m\n\u001b[1;32m   1483\u001b[0m         \u001b[0;34m.\u001b[0m\u001b[0mlist\u001b[0m\u001b[0;34m(\u001b[0m\u001b[0mparent\u001b[0m\u001b[0;34m=\u001b[0m\u001b[0m_get_projects_path\u001b[0m\u001b[0;34m(\u001b[0m\u001b[0;34m)\u001b[0m\u001b[0;34m,\u001b[0m \u001b[0mprettyPrint\u001b[0m\u001b[0;34m=\u001b[0m\u001b[0;32mFalse\u001b[0m\u001b[0;34m)\u001b[0m\u001b[0;34m\u001b[0m\u001b[0;34m\u001b[0m\u001b[0m\n",
            "\u001b[0;32m/usr/local/lib/python3.11/dist-packages/ee/data.py\u001b[0m in \u001b[0;36m_get_cloud_projects\u001b[0;34m()\u001b[0m\n\u001b[1;32m    350\u001b[0m \u001b[0;32mdef\u001b[0m \u001b[0m_get_cloud_projects\u001b[0m\u001b[0;34m(\u001b[0m\u001b[0;34m)\u001b[0m \u001b[0;34m->\u001b[0m \u001b[0mAny\u001b[0m\u001b[0;34m:\u001b[0m\u001b[0;34m\u001b[0m\u001b[0;34m\u001b[0m\u001b[0m\n\u001b[1;32m    351\u001b[0m   \u001b[0;32mif\u001b[0m \u001b[0m_cloud_api_resource\u001b[0m \u001b[0;32mis\u001b[0m \u001b[0;32mNone\u001b[0m\u001b[0;34m:\u001b[0m\u001b[0;34m\u001b[0m\u001b[0;34m\u001b[0m\u001b[0m\n\u001b[0;32m--> 352\u001b[0;31m     \u001b[0;32mraise\u001b[0m \u001b[0mee_exception\u001b[0m\u001b[0;34m.\u001b[0m\u001b[0mEEException\u001b[0m\u001b[0;34m(\u001b[0m\u001b[0m_NOT_INITIALIZED_MESSAGE\u001b[0m\u001b[0;34m)\u001b[0m\u001b[0;34m\u001b[0m\u001b[0;34m\u001b[0m\u001b[0m\n\u001b[0m\u001b[1;32m    353\u001b[0m   \u001b[0;32mreturn\u001b[0m \u001b[0m_cloud_api_resource\u001b[0m\u001b[0;34m.\u001b[0m\u001b[0mprojects\u001b[0m\u001b[0;34m(\u001b[0m\u001b[0;34m)\u001b[0m\u001b[0;34m\u001b[0m\u001b[0;34m\u001b[0m\u001b[0m\n\u001b[1;32m    354\u001b[0m \u001b[0;34m\u001b[0m\u001b[0m\n",
            "\u001b[0;31mEEException\u001b[0m: Earth Engine client library not initialized. See http://goo.gle/ee-auth."
          ]
        }
      ],
      "source": [
        "# Add Earth Engine dataset\n",
        "image = ee.Image(\"USGS/SRTMGL1_003\")\n",
        "\n",
        "# Set visualization parameters.\n",
        "vis_params = {\n",
        "    \"min\": 0,\n",
        "    \"max\": 4000,\n",
        "    \"palette\": [\"006633\", \"E5FFCC\", \"662A00\", \"D8D8D8\", \"F5F5F5\"],\n",
        "}\n",
        "\n",
        "# Add Earth Engine DEM to map\n",
        "Map.addLayer(image, vis_params, \"SRTM DEM\")\n",
        "\n",
        "states = ee.FeatureCollection(\"TIGER/2018/States\")\n",
        "Map.addLayer(states, {}, \"US States\")"
      ]
    },
    {
      "cell_type": "code",
      "execution_count": null,
      "id": "6",
      "metadata": {
        "id": "6"
      },
      "outputs": [],
      "source": [
        "Map.draw_features"
      ]
    },
    {
      "cell_type": "code",
      "execution_count": null,
      "id": "7",
      "metadata": {
        "id": "7"
      },
      "outputs": [],
      "source": [
        "Map.draw_last_feature"
      ]
    },
    {
      "cell_type": "code",
      "execution_count": null,
      "id": "8",
      "metadata": {
        "id": "8"
      },
      "outputs": [],
      "source": [
        "roi = ee.FeatureCollection(Map.draw_features)\n",
        "selected_states = states.filterBounds(roi)\n",
        "Map.addLayer(selected_states, {}, \"Selected states\")"
      ]
    },
    {
      "cell_type": "code",
      "execution_count": null,
      "id": "9",
      "metadata": {
        "id": "9"
      },
      "outputs": [],
      "source": [
        "clipped_image = image.clip(selected_states)\n",
        "Map.addLayer(clipped_image, vis_params, \"Clipped image\")"
      ]
    }
  ],
  "metadata": {
    "kernelspec": {
      "display_name": "Python 3",
      "language": "python",
      "name": "python3"
    },
    "colab": {
      "provenance": []
    },
    "widgets": {
      "application/vnd.jupyter.widget-state+json": {
        "61cadd0e61784ea4b8fca0777e7c75cc": {
          "model_module": "@jupyter-widgets/output",
          "model_name": "OutputModel",
          "model_module_version": "1.0.0",
          "state": {
            "_dom_classes": [],
            "_model_module": "@jupyter-widgets/output",
            "_model_module_version": "1.0.0",
            "_model_name": "OutputModel",
            "_view_count": null,
            "_view_module": "@jupyter-widgets/output",
            "_view_module_version": "1.0.0",
            "_view_name": "OutputView",
            "layout": "IPY_MODEL_b5685b91bb784e8ba131e1eb50fd9adf",
            "msg_id": "",
            "outputs": [
              {
                "output_type": "display_data",
                "data": {
                  "text/plain": "<IPython.lib.display.YouTubeVideo at 0x7ce75b0f3e50>",
                  "text/html": "\n        <iframe\n            width=\"800\"\n            height=\"450\"\n            src=\"https://www.youtube.com/embed/N7rK2aV1R4c\"\n            frameborder=\"0\"\n            allowfullscreen\n            \n        ></iframe>\n        ",
                  "image/jpeg": "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\n"
                },
                "metadata": {}
              }
            ]
          }
        },
        "b5685b91bb784e8ba131e1eb50fd9adf": {
          "model_module": "@jupyter-widgets/base",
          "model_name": "LayoutModel",
          "model_module_version": "1.2.0",
          "state": {
            "_model_module": "@jupyter-widgets/base",
            "_model_module_version": "1.2.0",
            "_model_name": "LayoutModel",
            "_view_count": null,
            "_view_module": "@jupyter-widgets/base",
            "_view_module_version": "1.2.0",
            "_view_name": "LayoutView",
            "align_content": null,
            "align_items": null,
            "align_self": null,
            "border": null,
            "bottom": null,
            "display": null,
            "flex": null,
            "flex_flow": null,
            "grid_area": null,
            "grid_auto_columns": null,
            "grid_auto_flow": null,
            "grid_auto_rows": null,
            "grid_column": null,
            "grid_gap": null,
            "grid_row": null,
            "grid_template_areas": null,
            "grid_template_columns": null,
            "grid_template_rows": null,
            "height": null,
            "justify_content": null,
            "justify_items": null,
            "left": null,
            "margin": null,
            "max_height": null,
            "max_width": null,
            "min_height": null,
            "min_width": null,
            "object_fit": null,
            "object_position": null,
            "order": null,
            "overflow": null,
            "overflow_x": null,
            "overflow_y": null,
            "padding": null,
            "right": null,
            "top": null,
            "visibility": null,
            "width": "815px"
          }
        }
      }
    }
  },
  "nbformat": 4,
  "nbformat_minor": 5
}